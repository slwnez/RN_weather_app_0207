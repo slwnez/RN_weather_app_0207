{
  "nbformat": 4,
  "nbformat_minor": 0,
  "metadata": {
    "colab": {
      "name": "data-randomness.ipynb",
      "provenance": []
    },
    "kernelspec": {
      "name": "python3",
      "display_name": "Python 3"
    },
    "language_info": {
      "name": "python"
    }
  },
  "cells": [
    {
      "cell_type": "markdown",
      "source": [
        "# 분포와 우연성\n"
      ],
      "metadata": {
        "id": "hR3ymqpp3UcJ"
      }
    },
    {
      "cell_type": "markdown",
      "source": [
        "앞 절에서 우리는 범주형 자료와 연속형 자료의 분포(distribution)을 파악하는 다양한 시각적 방법에 대하여 알아 보았다.\n",
        "\n",
        "분포는 데이터를 구성하는 관측값들이 어디에 집중되어 있고 어떻게 퍼져 있는지를 알려준다. 즉, 데이터의 분포를 이용하면 자료의 특성을 쉽게 파악할 수 있다. 평균, 중간값은 자료의 중심에 대한 정보를 알려주며 표준편차, IQR은 자료의 퍼진 정보를 알려주는 측도로서 모두 하나의 숫자로 자료의 특성을 알려준다.\n",
        "\n",
        "이렇게 데이터의 특성을 하나의 숫자로 요약해 주는 값을 **통계량(statistic)** 이라고 부른다.\n",
        "\n",
        "우리가 관심있는 데이터의 특성은 중심과 퍼진 정도만 있는 것은 아니다. 데이터의 분포를 그림으로 요약하는 경우 분포의 전체적인 모양이 대칭인지? 오른쪽으로 길게 늘어진 것인지도 중요한 자료의 특성이다.\n",
        "\n",
        "이번 시간은 분포에 대해서 좀 더 알아보자. 먼저 국민체력자료를 이용하기 위하여 데이터프레임으로 불러오자."
      ],
      "metadata": {
        "id": "SC708_Kk9RGw"
      }
    },
    {
      "cell_type": "code",
      "execution_count": 1,
      "source": [
        "import pandas as pd\n",
        "import seaborn as sns\n",
        "import numpy as np\n",
        "from scipy.stats import norm # 정규분포\n",
        "\n",
        "import matplotlib.pyplot as plt # 그래프 그리기를 위한 라이브러리"
      ],
      "outputs": [],
      "metadata": {
        "id": "QKRxzdGw9lMJ"
      }
    },
    {
      "cell_type": "code",
      "execution_count": 2,
      "source": [
        "url = \"https://uos-bigdata.github.io/bigdata-exercise/_downloads/f143e9ca867a19f030d7b067add010d1/physical_test_2018_data.csv\"\n",
        "physical_data = pd.read_csv(url, sep=',', encoding = 'utf-8-sig')"
      ],
      "outputs": [],
      "metadata": {
        "id": "82k2o6Ya9IuI"
      }
    },
    {
      "cell_type": "markdown",
      "source": [
        "## 성인 남자의 신장\n",
        "\n",
        "\n",
        "앞 절에서 키와 몸무게의 분포를 알아볼 때 언급한 정규분포(Normal distribution)에 대해서 알아보자. 정규분포는 키나 몸무게와 같이 연속형 변수에 대한 분포이다. 보통 어떤 자료가 정규분포의 형태를 따른다고 하면 자료의 중심으로 대칭이며 좌우의 꼬리가 빠르게 줄어드는 형태를 말한다.\n",
        "\n",
        "먼저 국민체력자료에서 남자들의 키에 대한 분포를 히스토그램으로 그려보자."
      ],
      "metadata": {
        "id": "DJUPwsbq8Gxk"
      }
    },
    {
      "cell_type": "code",
      "execution_count": 3,
      "source": [
        "physical_data.loc[ physical_data[\"TEST_SEX\"] == \"M\", \"ITEM_F001\"].plot.hist(y='ITEM_F001', bins=20)"
      ],
      "outputs": [
        {
          "output_type": "execute_result",
          "data": {
            "text/plain": [
              "<Axes: ylabel='Frequency'>"
            ]
          },
          "metadata": {},
          "execution_count": 3
        },
        {
          "output_type": "display_data",
          "data": {
            "text/plain": [
              "<Figure size 640x480 with 1 Axes>"
            ],
            "image/png": "[encoded data removed]"
          },
          "metadata": {}
        }
      ],
      "metadata": {
        "colab": {
          "base_uri": "https://localhost:8080/",
          "height": 448
        },
        "id": "eHnexhYN3Tfc",
        "outputId": "35401bdc-f45a-4b39-bd46-2f0906cf27df"
      }
    },
    {
      "cell_type": "markdown",
      "source": [
        "위의 분포를 보면 좌우 대칭으로 보이지만 좌측으로 꼬리가 더 길다. 왜 그럴까? 아이들은 아직도 무럭무럭 자라고 있기 때문에 아이들의 키는 최종적인 신장이 아니다. 대한민국의 아이들이 시간에 따라서 어떻게 자라는지 나타내는 [도표(성장곡선)](https://knhanes.kdca.go.kr/knhanes/sub08/sub08_02.do)은 국민건강영양조사에서 얻어진 자료로 알 수있다.\n",
        "\n",
        "이제 관심의 대상을 정확하게 **성인 남자의 키** 라고 정하고 분포를 고려해 보자.\n",
        "데이터를 분석할 경우 관심의 대상이 대는 집단의 성격과 자격을 합리적이고 적절하게 정해야 한다.\n",
        "\n",
        "성인(19세 이상)만 선택하여 분포를 보면 아래와 같다. 이제 분포가 거의 좌우 대칭으로 나타나며 양쪽 꼬리 부분이 빨리 줄어든다.  "
      ],
      "metadata": {
        "id": "daAldE7j_O4x"
      }
    },
    {
      "cell_type": "code",
      "execution_count": 4,
      "source": [
        "physical_data.loc[ (physical_data[\"TEST_SEX\"] == \"M\") & (physical_data[\"TEST_AGE\"] >= 19), \"ITEM_F001\"].plot.hist(y='ITEM_F001', bins=20)"
      ],
      "outputs": [
        {
          "output_type": "execute_result",
          "data": {
            "text/plain": [
              "<Axes: ylabel='Frequency'>"
            ]
          },
          "metadata": {},
          "execution_count": 4
        },
        {
          "output_type": "display_data",
          "data": {
            "text/plain": [
              "<Figure size 640x480 with 1 Axes>"
            ],
            "image/png": "[encoded data removed]"
          },
          "metadata": {}
        }
      ],
      "metadata": {
        "colab": {
          "base_uri": "https://localhost:8080/",
          "height": 448
        },
        "id": "35vdPuZU-5xC",
        "outputId": "b9855589-8ae1-4eb1-80e6-28bd8f9627a0"
      }
    },
    {
      "cell_type": "markdown",
      "source": [
        "이제 성인 남자의 키의 평균과 표준편차를 구해보자. 데이타의 값을 $x_1, x_2, \\dots, x_n$ 이라고 하면 평균 $\\bar x$ 와 표준편차 $s$ 는 다음과 같이 계산한다.\n",
        "\n",
        "$$ \\bar x = \\frac{\\sum_{i=1}^n x_i}{n} $$\n",
        "\n",
        "$$ s = \\sqrt{ \\frac{\\sum_{i=1}^n (x_i - \\bar x)^2}{n-1}} $$\n",
        "\n",
        "평균(mean)은 자료의 중심에 대한 통계량이고, 표준편차(standard deviation)은 자료가 퍼진 정도를 나타내는 통계량이다. 참고로 자료의 분산(variance; $s^2$)은 표준편차를 제곱한 값이다. 분산 또한 자료가 퍼진 정도를 나타내는 통계량이다.\n",
        "\n",
        "[질문] 왜 분산과 표분편차는 서로 제곱한 관계인데 둘 중에 무었을 써야하나? 분산과 표분편차, 모두 자료가 퍼진 정도를 나타내는 통계량이지만 일반적으로 자료가 퍼진 정도를 기술하는 경우 표준 편차를 사용한다. 그 이유는 자료와 단위(scale)가 같기 때문이다.   \n",
        "\n",
        " 먼저 편의상 성인 남자의 신장, 몸무게, 체질량지수(Body Mass Index; BMI)를 `physical_adult_man`에 저장하고 변수명을 각각 `height`, `weight`, `bmi`로 바꾸자.  \n",
        "\n",
        ""
      ],
      "metadata": {
        "id": "XjRlcYzuCGMJ"
      }
    },
    {
      "cell_type": "code",
      "execution_count": 5,
      "source": [
        "physical_adult_man = physical_data.loc[ (physical_data[\"TEST_SEX\"] == \"M\") & (physical_data[\"TEST_AGE\"] >= 19), [\"ITEM_F001\",\"ITEM_F002\", \"ITEM_F003\" ]] #이거 대괄호 시험\n",
        "physical_adult_man.columns = [\"height\", \"weight\", \"bmi\"]\n"
      ],
      "outputs": [],
      "metadata": {
        "id": "fFVrfej0BvCz"
      }
    },
    {
      "cell_type": "code",
      "execution_count": 6,
      "source": [
        "physical_adult_man.head(5)"
      ],
      "outputs": [
        {
          "output_type": "execute_result",
          "data": {
            "text/plain": [
              "    height  weight   bmi\n",
              "0    159.2    57.2  30.3\n",
              "2    175.2    96.2  32.8\n",
              "3    178.7    79.4  17.9\n",
              "7    174.9    74.5  35.7\n",
              "15   175.3    71.3  17.2"
            ],
            "text/html": [
              "\n",
              "  <div id=\"df-aa8825d5-319e-41c3-967c-5ec87f5a795d\" class=\"colab-df-container\">\n",
              "    <div>\n",
              "<style scoped>\n",
              "    .dataframe tbody tr th:only-of-type {\n",
              "        vertical-align: middle;\n",
              "    }\n",
              "\n",
              "    .dataframe tbody tr th {\n",
              "        vertical-align: top;\n",
              "    }\n",
              "\n",
              "    .dataframe thead th {\n",
              "        text-align: right;\n",
              "    }\n",
              "</style>\n",
              "<table border=\"1\" class=\"dataframe\">\n",
              "  <thead>\n",
              "    <tr style=\"text-align: right;\">\n",
              "      <th></th>\n",
              "      <th>height</th>\n",
              "      <th>weight</th>\n",
              "      <th>bmi</th>\n",
              "    </tr>\n",
              "  </thead>\n",
              "  <tbody>\n",
              "    <tr>\n",
              "      <th>0</th>\n",
              "      <td>159.2</td>\n",
              "      <td>57.2</td>\n",
              "      <td>30.3</td>\n",
              "    </tr>\n",
              "    <tr>\n",
              "      <th>2</th>\n",
              "      <td>175.2</td>\n",
              "      <td>96.2</td>\n",
              "      <td>32.8</td>\n",
              "    </tr>\n",
              "    <tr>\n",
              "      <th>3</th>\n",
              "      <td>178.7</td>\n",
              "      <td>79.4</td>\n",
              "      <td>17.9</td>\n",
              "    </tr>\n",
              "    <tr>\n",
              "      <th>7</th>\n",
              "      <td>174.9</td>\n",
              "      <td>74.5</td>\n",
              "      <td>35.7</td>\n",
              "    </tr>\n",
              "    <tr>\n",
              "      <th>15</th>\n",
              "      <td>175.3</td>\n",
              "      <td>71.3</td>\n",
              "      <td>17.2</td>\n",
              "    </tr>\n",
              "  </tbody>\n",
              "</table>\n",
              "</div>\n",
              "    <div class=\"colab-df-buttons\">\n",
              "\n",
              "  <div class=\"colab-df-container\">\n",
              "    <button class=\"colab-df-convert\" onclick=\"convertToInteractive('df-aa8825d5-319e-41c3-967c-5ec87f5a795d')\"\n",
              "            title=\"Convert this dataframe to an interactive table.\"\n",
              "            style=\"display:none;\">\n",
              "\n",
              "  <svg xmlns=\"http://www.w3.org/2000/svg\" height=\"24px\" viewBox=\"0 -960 960 960\">\n",
              "    <path d=\"M120-120v-720h720v720H120Zm60-500h600v-160H180v160Zm220 220h160v-160H400v160Zm0 220h160v-160H400v160ZM180-400h160v-160H180v160Zm440 0h160v-160H620v160ZM180-180h160v-160H180v160Zm440 0h160v-160H620v160Z\"/>\n",
              "  </svg>\n",
              "    </button>\n",
              "\n",
              "  <style>\n",
              "    .colab-df-container {\n",
              "      display:flex;\n",
              "      gap: 12px;\n",
              "    }\n",
              "\n",
              "    .colab-df-convert {\n",
              "      background-color: #E8F0FE;\n",
              "      border: none;\n",
              "      border-radius: 50%;\n",
              "      cursor: pointer;\n",
              "      display: none;\n",
              "      fill: #1967D2;\n",
              "      height: 32px;\n",
              "      padding: 0 0 0 0;\n",
              "      width: 32px;\n",
              "    }\n",
              "\n",
              "    .colab-df-convert:hover {\n",
              "      background-color: #E2EBFA;\n",
              "      box-shadow: 0px 1px 2px rgba(60, 64, 67, 0.3), 0px 1px 3px 1px rgba(60, 64, 67, 0.15);\n",
              "      fill: #174EA6;\n",
              "    }\n",
              "\n",
              "    .colab-df-buttons div {\n",
              "      margin-bottom: 4px;\n",
              "    }\n",
              "\n",
              "    [theme=dark] .colab-df-convert {\n",
              "      background-color: #3B4455;\n",
              "      fill: #D2E3FC;\n",
              "    }\n",
              "\n",
              "    [theme=dark] .colab-df-convert:hover {\n",
              "      background-color: #434B5C;\n",
              "      box-shadow: 0px 1px 3px 1px rgba(0, 0, 0, 0.15);\n",
              "      filter: drop-shadow(0px 1px 2px rgba(0, 0, 0, 0.3));\n",
              "      fill: #FFFFFF;\n",
              "    }\n",
              "  </style>\n",
              "\n",
              "    <script>\n",
              "      const buttonEl =\n",
              "        document.querySelector('#df-aa8825d5-319e-41c3-967c-5ec87f5a795d button.colab-df-convert');\n",
              "      buttonEl.style.display =\n",
              "        google.colab.kernel.accessAllowed ? 'block' : 'none';\n",
              "\n",
              "      async function convertToInteractive(key) {\n",
              "        const element = document.querySelector('#df-aa8825d5-319e-41c3-967c-5ec87f5a795d');\n",
              "        const dataTable =\n",
              "          await google.colab.kernel.invokeFunction('convertToInteractive',\n",
              "                                                    [key], {});\n",
              "        if (!dataTable) return;\n",
              "\n",
              "        const docLinkHtml = 'Like what you see? Visit the ' +\n",
              "          '<a target=\"_blank\" href=https://colab.research.google.com/notebooks/data_table.ipynb>data table notebook</a>'\n",
              "          + ' to learn more about interactive tables.';\n",
              "        element.innerHTML = '';\n",
              "        dataTable['output_type'] = 'display_data';\n",
              "        await google.colab.output.renderOutput(dataTable, element);\n",
              "        const docLink = document.createElement('div');\n",
              "        docLink.innerHTML = docLinkHtml;\n",
              "        element.appendChild(docLink);\n",
              "      }\n",
              "    </script>\n",
              "  </div>\n",
              "\n",
              "\n",
              "<div id=\"df-b5748b5d-8828-4517-b177-e076ae29d3d1\">\n",
              "  <button class=\"colab-df-quickchart\" onclick=\"quickchart('df-b5748b5d-8828-4517-b177-e076ae29d3d1')\"\n",
              "            title=\"Suggest charts\"\n",
              "            style=\"display:none;\">\n",
              "\n",
              "<svg xmlns=\"http://www.w3.org/2000/svg\" height=\"24px\"viewBox=\"0 0 24 24\"\n",
              "     width=\"24px\">\n",
              "    <g>\n",
              "        <path d=\"M19 3H5c-1.1 0-2 .9-2 2v14c0 1.1.9 2 2 2h14c1.1 0 2-.9 2-2V5c0-1.1-.9-2-2-2zM9 17H7v-7h2v7zm4 0h-2V7h2v10zm4 0h-2v-4h2v4z\"/>\n",
              "    </g>\n",
              "</svg>\n",
              "  </button>\n",
              "\n",
              "<style>\n",
              "  .colab-df-quickchart {\n",
              "      --bg-color: #E8F0FE;\n",
              "      --fill-color: #1967D2;\n",
              "      --hover-bg-color: #E2EBFA;\n",
              "      --hover-fill-color: #174EA6;\n",
              "      --disabled-fill-color: #AAA;\n",
              "      --disabled-bg-color: #DDD;\n",
              "  }\n",
              "\n",
              "  [theme=dark] .colab-df-quickchart {\n",
              "      --bg-color: #3B4455;\n",
              "      --fill-color: #D2E3FC;\n",
              "      --hover-bg-color: #434B5C;\n",
              "      --hover-fill-color: #FFFFFF;\n",
              "      --disabled-bg-color: #3B4455;\n",
              "      --disabled-fill-color: #666;\n",
              "  }\n",
              "\n",
              "  .colab-df-quickchart {\n",
              "    background-color: var(--bg-color);\n",
              "    border: none;\n",
              "    border-radius: 50%;\n",
              "    cursor: pointer;\n",
              "    display: none;\n",
              "    fill: var(--fill-color);\n",
              "    height: 32px;\n",
              "    padding: 0;\n",
              "    width: 32px;\n",
              "  }\n",
              "\n",
              "  .colab-df-quickchart:hover {\n",
              "    background-color: var(--hover-bg-color);\n",
              "    box-shadow: 0 1px 2px rgba(60, 64, 67, 0.3), 0 1px 3px 1px rgba(60, 64, 67, 0.15);\n",
              "    fill: var(--button-hover-fill-color);\n",
              "  }\n",
              "\n",
              "  .colab-df-quickchart-complete:disabled,\n",
              "  .colab-df-quickchart-complete:disabled:hover {\n",
              "    background-color: var(--disabled-bg-color);\n",
              "    fill: var(--disabled-fill-color);\n",
              "    box-shadow: none;\n",
              "  }\n",
              "\n",
              "  .colab-df-spinner {\n",
              "    border: 2px solid var(--fill-color);\n",
              "    border-color: transparent;\n",
              "    border-bottom-color: var(--fill-color);\n",
              "    animation:\n",
              "      spin 1s steps(1) infinite;\n",
              "  }\n",
              "\n",
              "  @keyframes spin {\n",
              "    0% {\n",
              "      border-color: transparent;\n",
              "      border-bottom-color: var(--fill-color);\n",
              "      border-left-color: var(--fill-color);\n",
              "    }\n",
              "    20% {\n",
              "      border-color: transparent;\n",
              "      border-left-color: var(--fill-color);\n",
              "      border-top-color: var(--fill-color);\n",
              "    }\n",
              "    30% {\n",
              "      border-color: transparent;\n",
              "      border-left-color: var(--fill-color);\n",
              "      border-top-color: var(--fill-color);\n",
              "      border-right-color: var(--fill-color);\n",
              "    }\n",
              "    40% {\n",
              "      border-color: transparent;\n",
              "      border-right-color: var(--fill-color);\n",
              "      border-top-color: var(--fill-color);\n",
              "    }\n",
              "    60% {\n",
              "      border-color: transparent;\n",
              "      border-right-color: var(--fill-color);\n",
              "    }\n",
              "    80% {\n",
              "      border-color: transparent;\n",
              "      border-right-color: var(--fill-color);\n",
              "      border-bottom-color: var(--fill-color);\n",
              "    }\n",
              "    90% {\n",
              "      border-color: transparent;\n",
              "      border-bottom-color: var(--fill-color);\n",
              "    }\n",
              "  }\n",
              "</style>\n",
              "\n",
              "  <script>\n",
              "    async function quickchart(key) {\n",
              "      const quickchartButtonEl =\n",
              "        document.querySelector('#' + key + ' button');\n",
              "      quickchartButtonEl.disabled = true;  // To prevent multiple clicks.\n",
              "      quickchartButtonEl.classList.add('colab-df-spinner');\n",
              "      try {\n",
              "        const charts = await google.colab.kernel.invokeFunction(\n",
              "            'suggestCharts', [key], {});\n",
              "      } catch (error) {\n",
              "        console.error('Error during call to suggestCharts:', error);\n",
              "      }\n",
              "      quickchartButtonEl.classList.remove('colab-df-spinner');\n",
              "      quickchartButtonEl.classList.add('colab-df-quickchart-complete');\n",
              "    }\n",
              "    (() => {\n",
              "      let quickchartButtonEl =\n",
              "        document.querySelector('#df-b5748b5d-8828-4517-b177-e076ae29d3d1 button');\n",
              "      quickchartButtonEl.style.display =\n",
              "        google.colab.kernel.accessAllowed ? 'block' : 'none';\n",
              "    })();\n",
              "  </script>\n",
              "</div>\n",
              "\n",
              "    </div>\n",
              "  </div>\n"
            ],
            "application/vnd.google.colaboratory.intrinsic+json": {
              "type": "dataframe",
              "variable_name": "physical_adult_man",
              "summary": "{\n  \"name\": \"physical_adult_man\",\n  \"rows\": 920,\n  \"fields\": [\n    {\n      \"column\": \"height\",\n      \"properties\": {\n        \"dtype\": \"number\",\n        \"std\": 6.246715857595518,\n        \"min\": 153.8,\n        \"max\": 195.2,\n        \"num_unique_values\": 263,\n        \"samples\": [\n          177.9,\n          172.7,\n          155.5\n        ],\n        \"semantic_type\": \"\",\n        \"description\": \"\"\n      }\n    },\n    {\n      \"column\": \"weight\",\n      \"properties\": {\n        \"dtype\": \"number\",\n        \"std\": 11.718713042363394,\n        \"min\": 31.1,\n        \"max\": 132.3,\n        \"num_unique_values\": 389,\n        \"samples\": [\n          98.1,\n          89.0,\n          78.3\n        ],\n        \"semantic_type\": \"\",\n        \"description\": \"\"\n      }\n    },\n    {\n      \"column\": \"bmi\",\n      \"properties\": {\n        \"dtype\": \"number\",\n        \"std\": 9.611098272260769,\n        \"min\": 4.9,\n        \"max\": 236.0,\n        \"num_unique_values\": 263,\n        \"samples\": [\n          33.2,\n          27.3,\n          6.8\n        ],\n        \"semantic_type\": \"\",\n        \"description\": \"\"\n      }\n    }\n  ]\n}"
            }
          },
          "metadata": {},
          "execution_count": 6
        }
      ],
      "metadata": {
        "colab": {
          "base_uri": "https://localhost:8080/",
          "height": 206
        },
        "id": "MKsUmG1PEpOe",
        "outputId": "7218e478-12f6-439b-9ed6-9a21f5331529"
      }
    },
    {
      "cell_type": "markdown",
      "source": [
        "이제 성인 남자의 키의 평균과 표준편차를 구해보자. 또한 앞에서 배운 다양한 통계량들고 `describe()` 메소드를 이용하여 구해보자."
      ],
      "metadata": {
        "id": "n60RzzMtF-br"
      }
    },
    {
      "cell_type": "code",
      "execution_count": 10,
      "source": [
        "stats_adult_man = physical_adult_man.describe().reset_index()\n",
        "#stats_adult_man = physical_adult_man.describe()\n",
        "stats_adult_man"
      ],
      "outputs": [
        {
          "output_type": "execute_result",
          "data": {
            "text/plain": [
              "   index      height      weight         bmi\n",
              "0  count  920.000000  920.000000  920.000000\n",
              "1   mean  172.695435   74.105870   22.215109\n",
              "2    std    6.246716   11.718713    9.611098\n",
              "3    min  153.800000   31.100000    4.900000\n",
              "4    25%  168.700000   66.100000   17.400000\n",
              "5    50%  172.750000   73.250000   21.900000\n",
              "6    75%  176.800000   80.300000   26.500000\n",
              "7    max  195.200000  132.300000  236.000000"
            ],
            "text/html": [
              "\n",
              "  <div id=\"df-1b6925f1-1760-41a6-a64f-6aaaa833e5ae\" class=\"colab-df-container\">\n",
              "    <div>\n",
              "<style scoped>\n",
              "    .dataframe tbody tr th:only-of-type {\n",
              "        vertical-align: middle;\n",
              "    }\n",
              "\n",
              "    .dataframe tbody tr th {\n",
              "        vertical-align: top;\n",
              "    }\n",
              "\n",
              "    .dataframe thead th {\n",
              "        text-align: right;\n",
              "    }\n",
              "</style>\n",
              "<table border=\"1\" class=\"dataframe\">\n",
              "  <thead>\n",
              "    <tr style=\"text-align: right;\">\n",
              "      <th></th>\n",
              "      <th>index</th>\n",
              "      <th>height</th>\n",
              "      <th>weight</th>\n",
              "      <th>bmi</th>\n",
              "    </tr>\n",
              "  </thead>\n",
              "  <tbody>\n",
              "    <tr>\n",
              "      <th>0</th>\n",
              "      <td>count</td>\n",
              "      <td>920.000000</td>\n",
              "      <td>920.000000</td>\n",
              "      <td>920.000000</td>\n",
              "    </tr>\n",
              "    <tr>\n",
              "      <th>1</th>\n",
              "      <td>mean</td>\n",
              "      <td>172.695435</td>\n",
              "      <td>74.105870</td>\n",
              "      <td>22.215109</td>\n",
              "    </tr>\n",
              "    <tr>\n",
              "      <th>2</th>\n",
              "      <td>std</td>\n",
              "      <td>6.246716</td>\n",
              "      <td>11.718713</td>\n",
              "      <td>9.611098</td>\n",
              "    </tr>\n",
              "    <tr>\n",
              "      <th>3</th>\n",
              "      <td>min</td>\n",
              "      <td>153.800000</td>\n",
              "      <td>31.100000</td>\n",
              "      <td>4.900000</td>\n",
              "    </tr>\n",
              "    <tr>\n",
              "      <th>4</th>\n",
              "      <td>25%</td>\n",
              "      <td>168.700000</td>\n",
              "      <td>66.100000</td>\n",
              "      <td>17.400000</td>\n",
              "    </tr>\n",
              "    <tr>\n",
              "      <th>5</th>\n",
              "      <td>50%</td>\n",
              "      <td>172.750000</td>\n",
              "      <td>73.250000</td>\n",
              "      <td>21.900000</td>\n",
              "    </tr>\n",
              "    <tr>\n",
              "      <th>6</th>\n",
              "      <td>75%</td>\n",
              "      <td>176.800000</td>\n",
              "      <td>80.300000</td>\n",
              "      <td>26.500000</td>\n",
              "    </tr>\n",
              "    <tr>\n",
              "      <th>7</th>\n",
              "      <td>max</td>\n",
              "      <td>195.200000</td>\n",
              "      <td>132.300000</td>\n",
              "      <td>236.000000</td>\n",
              "    </tr>\n",
              "  </tbody>\n",
              "</table>\n",
              "</div>\n",
              "    <div class=\"colab-df-buttons\">\n",
              "\n",
              "  <div class=\"colab-df-container\">\n",
              "    <button class=\"colab-df-convert\" onclick=\"convertToInteractive('df-1b6925f1-1760-41a6-a64f-6aaaa833e5ae')\"\n",
              "            title=\"Convert this dataframe to an interactive table.\"\n",
              "            style=\"display:none;\">\n",
              "\n",
              "  <svg xmlns=\"http://www.w3.org/2000/svg\" height=\"24px\" viewBox=\"0 -960 960 960\">\n",
              "    <path d=\"M120-120v-720h720v720H120Zm60-500h600v-160H180v160Zm220 220h160v-160H400v160Zm0 220h160v-160H400v160ZM180-400h160v-160H180v160Zm440 0h160v-160H620v160ZM180-180h160v-160H180v160Zm440 0h160v-160H620v160Z\"/>\n",
              "  </svg>\n",
              "    </button>\n",
              "\n",
              "  <style>\n",
              "    .colab-df-container {\n",
              "      display:flex;\n",
              "      gap: 12px;\n",
              "    }\n",
              "\n",
              "    .colab-df-convert {\n",
              "      background-color: #E8F0FE;\n",
              "      border: none;\n",
              "      border-radius: 50%;\n",
              "      cursor: pointer;\n",
              "      display: none;\n",
              "      fill: #1967D2;\n",
              "      height: 32px;\n",
              "      padding: 0 0 0 0;\n",
              "      width: 32px;\n",
              "    }\n",
              "\n",
              "    .colab-df-convert:hover {\n",
              "      background-color: #E2EBFA;\n",
              "      box-shadow: 0px 1px 2px rgba(60, 64, 67, 0.3), 0px 1px 3px 1px rgba(60, 64, 67, 0.15);\n",
              "      fill: #174EA6;\n",
              "    }\n",
              "\n",
              "    .colab-df-buttons div {\n",
              "      margin-bottom: 4px;\n",
              "    }\n",
              "\n",
              "    [theme=dark] .colab-df-convert {\n",
              "      background-color: #3B4455;\n",
              "      fill: #D2E3FC;\n",
              "    }\n",
              "\n",
              "    [theme=dark] .colab-df-convert:hover {\n",
              "      background-color: #434B5C;\n",
              "      box-shadow: 0px 1px 3px 1px rgba(0, 0, 0, 0.15);\n",
              "      filter: drop-shadow(0px 1px 2px rgba(0, 0, 0, 0.3));\n",
              "      fill: #FFFFFF;\n",
              "    }\n",
              "  </style>\n",
              "\n",
              "    <script>\n",
              "      const buttonEl =\n",
              "        document.querySelector('#df-1b6925f1-1760-41a6-a64f-6aaaa833e5ae button.colab-df-convert');\n",
              "      buttonEl.style.display =\n",
              "        google.colab.kernel.accessAllowed ? 'block' : 'none';\n",
              "\n",
              "      async function convertToInteractive(key) {\n",
              "        const element = document.querySelector('#df-1b6925f1-1760-41a6-a64f-6aaaa833e5ae');\n",
              "        const dataTable =\n",
              "          await google.colab.kernel.invokeFunction('convertToInteractive',\n",
              "                                                    [key], {});\n",
              "        if (!dataTable) return;\n",
              "\n",
              "        const docLinkHtml = 'Like what you see? Visit the ' +\n",
              "          '<a target=\"_blank\" href=https://colab.research.google.com/notebooks/data_table.ipynb>data table notebook</a>'\n",
              "          + ' to learn more about interactive tables.';\n",
              "        element.innerHTML = '';\n",
              "        dataTable['output_type'] = 'display_data';\n",
              "        await google.colab.output.renderOutput(dataTable, element);\n",
              "        const docLink = document.createElement('div');\n",
              "        docLink.innerHTML = docLinkHtml;\n",
              "        element.appendChild(docLink);\n",
              "      }\n",
              "    </script>\n",
              "  </div>\n",
              "\n",
              "\n",
              "<div id=\"df-0bda7db5-c87a-49ff-b36c-9b74aa5c8d81\">\n",
              "  <button class=\"colab-df-quickchart\" onclick=\"quickchart('df-0bda7db5-c87a-49ff-b36c-9b74aa5c8d81')\"\n",
              "            title=\"Suggest charts\"\n",
              "            style=\"display:none;\">\n",
              "\n",
              "<svg xmlns=\"http://www.w3.org/2000/svg\" height=\"24px\"viewBox=\"0 0 24 24\"\n",
              "     width=\"24px\">\n",
              "    <g>\n",
              "        <path d=\"M19 3H5c-1.1 0-2 .9-2 2v14c0 1.1.9 2 2 2h14c1.1 0 2-.9 2-2V5c0-1.1-.9-2-2-2zM9 17H7v-7h2v7zm4 0h-2V7h2v10zm4 0h-2v-4h2v4z\"/>\n",
              "    </g>\n",
              "</svg>\n",
              "  </button>\n",
              "\n",
              "<style>\n",
              "  .colab-df-quickchart {\n",
              "      --bg-color: #E8F0FE;\n",
              "      --fill-color: #1967D2;\n",
              "      --hover-bg-color: #E2EBFA;\n",
              "      --hover-fill-color: #174EA6;\n",
              "      --disabled-fill-color: #AAA;\n",
              "      --disabled-bg-color: #DDD;\n",
              "  }\n",
              "\n",
              "  [theme=dark] .colab-df-quickchart {\n",
              "      --bg-color: #3B4455;\n",
              "      --fill-color: #D2E3FC;\n",
              "      --hover-bg-color: #434B5C;\n",
              "      --hover-fill-color: #FFFFFF;\n",
              "      --disabled-bg-color: #3B4455;\n",
              "      --disabled-fill-color: #666;\n",
              "  }\n",
              "\n",
              "  .colab-df-quickchart {\n",
              "    background-color: var(--bg-color);\n",
              "    border: none;\n",
              "    border-radius: 50%;\n",
              "    cursor: pointer;\n",
              "    display: none;\n",
              "    fill: var(--fill-color);\n",
              "    height: 32px;\n",
              "    padding: 0;\n",
              "    width: 32px;\n",
              "  }\n",
              "\n",
              "  .colab-df-quickchart:hover {\n",
              "    background-color: var(--hover-bg-color);\n",
              "    box-shadow: 0 1px 2px rgba(60, 64, 67, 0.3), 0 1px 3px 1px rgba(60, 64, 67, 0.15);\n",
              "    fill: var(--button-hover-fill-color);\n",
              "  }\n",
              "\n",
              "  .colab-df-quickchart-complete:disabled,\n",
              "  .colab-df-quickchart-complete:disabled:hover {\n",
              "    background-color: var(--disabled-bg-color);\n",
              "    fill: var(--disabled-fill-color);\n",
              "    box-shadow: none;\n",
              "  }\n",
              "\n",
              "  .colab-df-spinner {\n",
              "    border: 2px solid var(--fill-color);\n",
              "    border-color: transparent;\n",
              "    border-bottom-color: var(--fill-color);\n",
              "    animation:\n",
              "      spin 1s steps(1) infinite;\n",
              "  }\n",
              "\n",
              "  @keyframes spin {\n",
              "    0% {\n",
              "      border-color: transparent;\n",
              "      border-bottom-color: var(--fill-color);\n",
              "      border-left-color: var(--fill-color);\n",
              "    }\n",
              "    20% {\n",
              "      border-color: transparent;\n",
              "      border-left-color: var(--fill-color);\n",
              "      border-top-color: var(--fill-color);\n",
              "    }\n",
              "    30% {\n",
              "      border-color: transparent;\n",
              "      border-left-color: var(--fill-color);\n",
              "      border-top-color: var(--fill-color);\n",
              "      border-right-color: var(--fill-color);\n",
              "    }\n",
              "    40% {\n",
              "      border-color: transparent;\n",
              "      border-right-color: var(--fill-color);\n",
              "      border-top-color: var(--fill-color);\n",
              "    }\n",
              "    60% {\n",
              "      border-color: transparent;\n",
              "      border-right-color: var(--fill-color);\n",
              "    }\n",
              "    80% {\n",
              "      border-color: transparent;\n",
              "      border-right-color: var(--fill-color);\n",
              "      border-bottom-color: var(--fill-color);\n",
              "    }\n",
              "    90% {\n",
              "      border-color: transparent;\n",
              "      border-bottom-color: var(--fill-color);\n",
              "    }\n",
              "  }\n",
              "</style>\n",
              "\n",
              "  <script>\n",
              "    async function quickchart(key) {\n",
              "      const quickchartButtonEl =\n",
              "        document.querySelector('#' + key + ' button');\n",
              "      quickchartButtonEl.disabled = true;  // To prevent multiple clicks.\n",
              "      quickchartButtonEl.classList.add('colab-df-spinner');\n",
              "      try {\n",
              "        const charts = await google.colab.kernel.invokeFunction(\n",
              "            'suggestCharts', [key], {});\n",
              "      } catch (error) {\n",
              "        console.error('Error during call to suggestCharts:', error);\n",
              "      }\n",
              "      quickchartButtonEl.classList.remove('colab-df-spinner');\n",
              "      quickchartButtonEl.classList.add('colab-df-quickchart-complete');\n",
              "    }\n",
              "    (() => {\n",
              "      let quickchartButtonEl =\n",
              "        document.querySelector('#df-0bda7db5-c87a-49ff-b36c-9b74aa5c8d81 button');\n",
              "      quickchartButtonEl.style.display =\n",
              "        google.colab.kernel.accessAllowed ? 'block' : 'none';\n",
              "    })();\n",
              "  </script>\n",
              "</div>\n",
              "\n",
              "  <div id=\"id_e2fd635d-7744-4563-8fb2-67c30eeff85c\">\n",
              "    <style>\n",
              "      .colab-df-generate {\n",
              "        background-color: #E8F0FE;\n",
              "        border: none;\n",
              "        border-radius: 50%;\n",
              "        cursor: pointer;\n",
              "        display: none;\n",
              "        fill: #1967D2;\n",
              "        height: 32px;\n",
              "        padding: 0 0 0 0;\n",
              "        width: 32px;\n",
              "      }\n",
              "\n",
              "      .colab-df-generate:hover {\n",
              "        background-color: #E2EBFA;\n",
              "        box-shadow: 0px 1px 2px rgba(60, 64, 67, 0.3), 0px 1px 3px 1px rgba(60, 64, 67, 0.15);\n",
              "        fill: #174EA6;\n",
              "      }\n",
              "\n",
              "      [theme=dark] .colab-df-generate {\n",
              "        background-color: #3B4455;\n",
              "        fill: #D2E3FC;\n",
              "      }\n",
              "\n",
              "      [theme=dark] .colab-df-generate:hover {\n",
              "        background-color: #434B5C;\n",
              "        box-shadow: 0px 1px 3px 1px rgba(0, 0, 0, 0.15);\n",
              "        filter: drop-shadow(0px 1px 2px rgba(0, 0, 0, 0.3));\n",
              "        fill: #FFFFFF;\n",
              "      }\n",
              "    </style>\n",
              "    <button class=\"colab-df-generate\" onclick=\"generateWithVariable('stats_adult_man')\"\n",
              "            title=\"Generate code using this dataframe.\"\n",
              "            style=\"display:none;\">\n",
              "\n",
              "  <svg xmlns=\"http://www.w3.org/2000/svg\" height=\"24px\"viewBox=\"0 0 24 24\"\n",
              "       width=\"24px\">\n",
              "    <path d=\"M7,19H8.4L18.45,9,17,7.55,7,17.6ZM5,21V16.75L18.45,3.32a2,2,0,0,1,2.83,0l1.4,1.43a1.91,1.91,0,0,1,.58,1.4,1.91,1.91,0,0,1-.58,1.4L9.25,21ZM18.45,9,17,7.55Zm-12,3A5.31,5.31,0,0,0,4.9,8.1,5.31,5.31,0,0,0,1,6.5,5.31,5.31,0,0,0,4.9,4.9,5.31,5.31,0,0,0,6.5,1,5.31,5.31,0,0,0,8.1,4.9,5.31,5.31,0,0,0,12,6.5,5.46,5.46,0,0,0,6.5,12Z\"/>\n",
              "  </svg>\n",
              "    </button>\n",
              "    <script>\n",
              "      (() => {\n",
              "      const buttonEl =\n",
              "        document.querySelector('#id_e2fd635d-7744-4563-8fb2-67c30eeff85c button.colab-df-generate');\n",
              "      buttonEl.style.display =\n",
              "        google.colab.kernel.accessAllowed ? 'block' : 'none';\n",
              "\n",
              "      buttonEl.onclick = () => {\n",
              "        google.colab.notebook.generateWithVariable('stats_adult_man');\n",
              "      }\n",
              "      })();\n",
              "    </script>\n",
              "  </div>\n",
              "\n",
              "    </div>\n",
              "  </div>\n"
            ],
            "application/vnd.google.colaboratory.intrinsic+json": {
              "type": "dataframe",
              "variable_name": "stats_adult_man",
              "summary": "{\n  \"name\": \"stats_adult_man\",\n  \"rows\": 8,\n  \"fields\": [\n    {\n      \"column\": \"index\",\n      \"properties\": {\n        \"dtype\": \"string\",\n        \"num_unique_values\": 8,\n        \"samples\": [\n          \"mean\",\n          \"50%\",\n          \"count\"\n        ],\n        \"semantic_type\": \"\",\n        \"description\": \"\"\n      }\n    },\n    {\n      \"column\": \"height\",\n      \"properties\": {\n        \"dtype\": \"number\",\n        \"std\": 278.860374816314,\n        \"min\": 6.246715857595518,\n        \"max\": 920.0,\n        \"num_unique_values\": 8,\n        \"samples\": [\n          172.6954347826087,\n          172.75,\n          920.0\n        ],\n        \"semantic_type\": \"\",\n        \"description\": \"\"\n      }\n    },\n    {\n      \"column\": \"weight\",\n      \"properties\": {\n        \"dtype\": \"number\",\n        \"std\": 303.6823516351804,\n        \"min\": 11.718713042363394,\n        \"max\": 920.0,\n        \"num_unique_values\": 8,\n        \"samples\": [\n          74.10586956521739,\n          73.25,\n          920.0\n        ],\n        \"semantic_type\": \"\",\n        \"description\": \"\"\n      }\n    },\n    {\n      \"column\": \"bmi\",\n      \"properties\": {\n        \"dtype\": \"number\",\n        \"std\": 317.6261251312457,\n        \"min\": 4.9,\n        \"max\": 920.0,\n        \"num_unique_values\": 8,\n        \"samples\": [\n          22.215108695652177,\n          21.9,\n          920.0\n        ],\n        \"semantic_type\": \"\",\n        \"description\": \"\"\n      }\n    }\n  ]\n}"
            }
          },
          "metadata": {},
          "execution_count": 10
        }
      ],
      "metadata": {
        "colab": {
          "base_uri": "https://localhost:8080/",
          "height": 300
        },
        "id": "3xY7DQVyEyIJ",
        "outputId": "dcc90cd0-73c2-4468-8208-ab880fb9a36e"
      }
    },
    {
      "cell_type": "markdown",
      "source": [
        "## 정규분포"
      ],
      "metadata": {
        "id": "GqcZMQLiGh9z"
      }
    },
    {
      "cell_type": "markdown",
      "source": [
        "앞에서 언급한 정규분포에 대해서 자세하게 알아보자. 정규분포(normal distrbution)은 평균과 분산이 주어지면 분포의 모양을 다음과 같은 식으로 나타낼 수 있다.\n",
        "\n",
        "평균 $\\mu$이고 분산이 $\\sigma^2$인 정규분포를 $N(\\mu,~\\sigma^2)$로 표시하며 분포의 모양은 다음과 같은 식으로 나타난다.\n",
        "\n",
        "$$ f(x; \\mu,\\sigma^2) = \\frac{1}{\\sqrt{2 \\pi \\sigma^2}} \\exp \\left (-\\frac{ (x-\\mu)^2}{2\\sigma^2} \\right ) $$\n",
        "\n",
        "여러분이 위의 식을 외울 필요는 없으니 걱정하지 말자....\n",
        "\n",
        "앞에서 체력측정자료에서 구한 성인 남자의 신장에 대한 평균이 $172.7$cm 이고 표준편차는 $s = 6.2$ 이다. 이렇게 구한 평균과 분산을 이용하여 위에서 제시된 정규분포의 확률분포를 그려보자.  \n",
        "\n",
        "먼저 성인 남자의 신장에 대한 평균과 표준편차를 각각 `mean_h` 와 `sd_h` 에 저장하자.\n"
      ],
      "metadata": {
        "id": "Eh6rELGzGmU8"
      }
    },
    {
      "cell_type": "code",
      "execution_count": 14,
      "source": [
        "# 성인 남자 키의 평균과 표준편차\n",
        "mu = stats_adult_man.loc[1,\"height\"]\n",
        "sigma   = stats_adult_man.loc[2,\"height\"]"
      ],
      "outputs": [],
      "metadata": {
        "id": "cCgR93kUR9gE"
      }
    },
    {
      "cell_type": "markdown",
      "source": [
        "다음으로 정규분포의 그래프 $f(x; \\mu, \\sigma)$ 를 그리기 위하여  x 축의 값을 150cm 에서 시작하여 200cm 까지 1씩 증가하는 수열(백터)을 만든다. 3장에서 배운 `np.arrage()` 함수를 사용하자.\n",
        "\n",
        "주어진 x 값으로 `norm.pdf(x, mu, sigma )` 함수를 이용하여 정규분포의 그래프 $f(x; \\mu, \\sigma)$의 값을 계산한다."
      ],
      "metadata": {
        "id": "5-nxYGqO3R1j"
      }
    },
    {
      "cell_type": "code",
      "execution_count": 12,
      "source": [
        "# 150cm 부터 200cm 까지 1cm씩 증가하는 1차원 벡터\n",
        "x  = np.arange(150, 200, 1)\n",
        "\n",
        "# 정규분포 함수의 값 계산\n",
        "fx = norm.pdf(x, mu, sigma )"
      ],
      "outputs": [],
      "metadata": {
        "id": "5VMHw1nR29nz"
      }
    },
    {
      "cell_type": "markdown",
      "source": [
        "이제 정규분포 $N(172.7, 6.2^2)$의 분포 그래프를 그려보자.\n",
        "\n",
        "`plt.plot` 은 라이브러리 `matplotlib.pyplot` 의  함수를 `plot(x,y)` 이용한다는 것이다.\n",
        "두 개의 주어진 백터 `x` 와 `fx` 를 이차원 평면에 그려준다. `plt.show()` 는 말 그대로 그림을 출력하라는 의미이다."
      ],
      "metadata": {
        "id": "8BsREpki4eVE"
      }
    },
    {
      "cell_type": "code",
      "execution_count": 13,
      "source": [
        "plt.plot(x, fx)\n",
        "plt.show()"
      ],
      "outputs": [
        {
          "output_type": "display_data",
          "data": {
            "text/plain": [
              "<Figure size 640x480 with 1 Axes>"
            ],
            "image/png": "[encoded data removed]"
          },
          "metadata": {}
        }
      ],
      "metadata": {
        "colab": {
          "base_uri": "https://localhost:8080/",
          "height": 430
        },
        "id": "8eZxB_ZDGPle",
        "outputId": "4d101304-77a7-4694-cf3a-9d4e974ba253"
      }
    },
    {
      "cell_type": "markdown",
      "source": [
        "이제 성인남자의 키에 대한 히스토그램과 정규분포 $N(172.7, 6.2^2)$의 분포 그래프를 같이 그려보자.\n",
        "\n",
        "분포의 모양이 거의 일치하는 것을 알 수 있다."
      ],
      "metadata": {
        "id": "wKjtNRnb5fIb"
      }
    },
    {
      "cell_type": "code",
      "execution_count": 15,
      "source": [
        "hist = sns.histplot(data=physical_adult_man, x=\"height\",stat=\"density\", label='Physical data')\n",
        "hist.plot(x, fx, 'red', label='Normal distribution')\n",
        "hist.legend()"
      ],
      "outputs": [
        {
          "output_type": "execute_result",
          "data": {
            "text/plain": [
              "<matplotlib.legend.Legend at 0x79d8e92ddbd0>"
            ]
          },
          "metadata": {},
          "execution_count": 15
        },
        {
          "output_type": "display_data",
          "data": {
            "text/plain": [
              "<Figure size 640x480 with 1 Axes>"
            ],
            "image/png": "[encoded data removed]"
          },
          "metadata": {}
        }
      ],
      "metadata": {
        "colab": {
          "base_uri": "https://localhost:8080/",
          "height": 468
        },
        "id": "XFte68aaTEBr",
        "outputId": "145a5a5a-1431-4974-934e-934727054253"
      }
    },
    {
      "cell_type": "markdown",
      "source": [
        "## 우연성과 분포"
      ],
      "metadata": {
        "id": "pjVXbhBv57hE"
      }
    },
    {
      "cell_type": "markdown",
      "source": [
        "정규분포는 **확률 분포(probability distribution)** 라도 부른다.\n",
        "\n",
        "확률분포는 그 분포를 따르는 어떤 변수 값이 **임의로(randomly)** 주어지는 경우 나타날 수 있는 값들의 **가능성** 을 알려주는 역활을 한다. 앞에서 본 정규분포의 식 $f(x; \\mu, \\sigma)$을 **확률밀도함수(probability density function; pdf)** 라고 하며 나타날 수 있는 값들의 상대적인 가능성을 그래프의 높이로 나타내 준다.\n",
        "\n",
        "정규분포를 따르는 변수의 값은 나타니기 전에 먼저 알 수 없다. 마치 우리가 주사위를 던질 경우 나타날 값을 에측 못하는 것과 같다. 하지만 분포(distribution)은 이렇게 **우연성(randomness)** 이 있는 값에 대하여 나타날 수 있는 값들의 가능성을 우리에게 알려준다.\n",
        "\n",
        "앞에서 보았듯이 정규분포 $N(172.7, 6.2^2)$ 는 가장 나타날 가능성이 높은 값이 평균 $172.7$ 이며 평균에서 멀어질 수록 가능성이 빠르게 감소한다.\n",
        "\n",
        "어떻게 키의 분포와 정규분포는 그 형태가 매우 비슷할 수 있을까? 키의 분포가 정규분포와 유사한 이유는 무었일까?\n"
      ],
      "metadata": {
        "id": "SUt3p5zd5_Px"
      }
    },
    {
      "cell_type": "markdown",
      "source": [
        "## 이상점\n",
        "\n",
        "체력측정자료에서 성인 남자의 몸무게, 체질량지수(BMI) 는 정규분포와 비슷한 분포를 가질까?\n",
        "\n",
        "위와 같이 성인 남자의 몸무게 히스토그램과 정규분포 확률밀도함수를 같이 그려보자.\n"
      ],
      "metadata": {
        "id": "fBob3t5x_1se"
      }
    },
    {
      "cell_type": "code",
      "execution_count": 16,
      "source": [
        "# 성인 남자 몸무게의 평균과 표준편차\n",
        "mu = stats_adult_man.loc[1,\"weight\"]\n",
        "sigma   = stats_adult_man.loc[2,\"weight\"]\n",
        "\n",
        "# 40kg부터 120kg까지 1kg씩 증가하는 1차원 벡터\n",
        "x  = np.arange(40, 120, 1)\n",
        "\n",
        "# 정규분포 함수의 값 계산\n",
        "fx = norm.pdf(x, mu, sigma )"
      ],
      "outputs": [],
      "metadata": {
        "id": "-1N3MPvB_1AA"
      }
    },
    {
      "cell_type": "code",
      "execution_count": 17,
      "source": [
        "hist = sns.histplot(data=physical_adult_man, x=\"weight\",stat=\"density\", label='Physical data')\n",
        "hist.plot(x, fx, 'red', label='Normal distribution')\n",
        "hist.legend()"
      ],
      "outputs": [
        {
          "output_type": "execute_result",
          "data": {
            "text/plain": [
              "<matplotlib.legend.Legend at 0x79d8e9072450>"
            ]
          },
          "metadata": {},
          "execution_count": 17
        },
        {
          "output_type": "display_data",
          "data": {
            "text/plain": [
              "<Figure size 640x480 with 1 Axes>"
            ],
            "image/png": "[encoded data removed]"
          },
          "metadata": {}
        }
      ],
      "metadata": {
        "colab": {
          "base_uri": "https://localhost:8080/",
          "height": 467
        },
        "id": "f3yZE9xR7xLU",
        "outputId": "c835d147-82e9-4be6-f8d3-788edb671996"
      }
    },
    {
      "cell_type": "markdown",
      "source": [
        "이제 성인 남자의 체질량지수 히스토그램과 정규분포 확률밀도함수를 같이 그려보자."
      ],
      "metadata": {
        "id": "4AkLEcxvBnbT"
      }
    },
    {
      "cell_type": "code",
      "execution_count": 18,
      "source": [
        "# 성인 남자 BMI의 평균과 표준편차\n",
        "mu = stats_adult_man.loc[1,\"bmi\"]\n",
        "sigma   = stats_adult_man.loc[2,\"bmi\"]\n",
        "\n",
        "# 5 부터 220 g까지 1씩 증가하는 1차원 벡터\n",
        "x  = np.arange(5, 50, 1)\n",
        "\n",
        "# 정규분포 함수의 값 계산\n",
        "fx = norm.pdf(x, mu, sigma )"
      ],
      "outputs": [],
      "metadata": {
        "id": "N2t0aXzvBmh1"
      }
    },
    {
      "cell_type": "code",
      "execution_count": 19,
      "source": [
        "hist = sns.histplot(data=physical_adult_man, x=\"bmi\",stat=\"density\", label='Physical data')\n",
        "hist.plot(x, fx, 'red', label='Normal distribution')\n",
        "hist.legend()"
      ],
      "outputs": [
        {
          "output_type": "execute_result",
          "data": {
            "text/plain": [
              "<matplotlib.legend.Legend at 0x79d8e8f924d0>"
            ]
          },
          "metadata": {},
          "execution_count": 19
        },
        {
          "output_type": "display_data",
          "data": {
            "text/plain": [
              "<Figure size 640x480 with 1 Axes>"
            ],
            "image/png": "[encoded data removed]"
          },
          "metadata": {}
        }
      ],
      "metadata": {
        "colab": {
          "base_uri": "https://localhost:8080/",
          "height": 467
        },
        "id": "Z7HCF_6IArnW",
        "outputId": "f33b3a27-9885-4df2-8e4c-34a7427b899f"
      }
    },
    {
      "cell_type": "markdown",
      "source": [
        "성인 남자의 체질량지수 BMI의 최대값이 236.0 으로 나타났는데 뭔가 이상하다. 이러한 점을 **이상점(outlier)** 이라고 한다. 이상점은 잘못 입력된 값일 수 도 있고 실제로 나타난 매우 큰 값일 수도 있다. 데이터를 다루는 경우 이상점들은 언제나 나타나며 분석을 어렵게 만든다.\n",
        "\n",
        "우리가 데이터를 분석할 때 자료를 검토하고 분포를 살펴보아야 하는 이유 중의 하나가 이상점의 존재와 그 영향을 파악하가 위함이다."
      ],
      "metadata": {
        "id": "9FJ3ucJ4CXlA"
      }
    },
    {
      "cell_type": "code",
      "execution_count": null,
      "source": [],
      "outputs": [],
      "metadata": {
        "id": "3rQ6ucSzCGS-"
      }
    }
  ]
}